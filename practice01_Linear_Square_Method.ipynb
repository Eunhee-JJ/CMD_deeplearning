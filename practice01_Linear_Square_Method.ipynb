{
 "cells": [
  {
   "cell_type": "code",
   "execution_count": null,
   "metadata": {},
   "outputs": [],
   "source": [
    "#4개의 점 데이터로 선형 회귀 모델 만들기\n",
    "\n",
    "import numpy as np\n",
    "\n",
    "#x 값과 y 값\n",
    "x=[2, 4, 6, 8]\n",
    "y=[81, 93, 91, 97]\n",
    "\n",
    "#x와 y의 평균값\n",
    "mx=np.mean(x) #mean 함수의 다른 문법?\n",
    "my=np.mean(y)\n",
    "print(\"x의 평균값: \", mx)\n",
    "print(\"y의 평균값: \", my)\n",
    "\n",
    "#기울기 공식의 분모\n",
    "divisor = sum([(mx-i)**2 for i in x]) #for 여려 가지 문법?\n",
    "\n",
    "#기울기 공식의 분자\n",
    "def top(x, mx, y, my):\n",
    "    d=0\n",
    "    for i in range(len(x)):\n",
    "        d += (x[i]-mx) * (y[i] - my)\n",
    "    return d\n",
    "dividend = top(x, mx, y, my) #함수 정의 부분의 좋은 위치?\n",
    "\n",
    "print(\"분모:\", divisor)\n",
    "print(\"분자:\", dividend)\n",
    "\n",
    "#기울기와 y 절편 구하기\n",
    "a=dividend/divisor #분모, 분자 공식 유도 과정??\n",
    "b=my-a*mx\n",
    "#왜 '평균'x, y로 절편을 구하는지??\n",
    "#=> a와 연관된 이유인 것 같은데, 일단은 'y의 평균값에서 얼마나 내려가야 직선의 절편이 되는가'의 '얼마나'=a*mx 인 걸로 생각하기.\n",
    "\n",
    "#출력으로 확인\n",
    "print(\"기울기 a=\", a)\n",
    "print(\"절편 b=\", b)"
   ]
  },
  {
   "cell_type": "code",
   "execution_count": null,
   "metadata": {},
   "outputs": [],
   "source": [
    "#"
   ]
  },
  {
   "cell_type": "code",
   "execution_count": null,
   "metadata": {},
   "outputs": [],
   "source": []
  },
  {
   "cell_type": "code",
   "execution_count": null,
   "metadata": {},
   "outputs": [],
   "source": []
  }
 ],
 "metadata": {
  "kernelspec": {
   "display_name": "Python 3",
   "language": "python",
   "name": "python3"
  },
  "language_info": {
   "codemirror_mode": {
    "name": "ipython",
    "version": 3
   },
   "file_extension": ".py",
   "mimetype": "text/x-python",
   "name": "python",
   "nbconvert_exporter": "python",
   "pygments_lexer": "ipython3",
   "version": "3.7.6"
  }
 },
 "nbformat": 4,
 "nbformat_minor": 4
}
