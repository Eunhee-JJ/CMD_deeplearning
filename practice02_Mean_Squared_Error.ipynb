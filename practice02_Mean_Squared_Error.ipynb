{
 "cells": [
  {
   "cell_type": "code",
   "execution_count": null,
   "metadata": {},
   "outputs": [],
   "source": [
    "import numpy as np\n",
    "\n",
    "\"\"\"\n",
    "1. 임시 기울기 a와 y절편 b 설정\n",
    "2. 데이터를 배열 형태로 처리\n",
    "3. 직선 함수 정의(입력인자 : x)\n",
    "4. mse 함수 정의(입력인자: y예측값, y)\n",
    "5. 배열을 입력 인자로 받아 최종값을 구하는 mse_val 함수 정의\n",
    "6. 데이터를 대입하여 mse 최종값 구하기\n",
    "\"\"\""
   ]
  }
 ],
 "metadata": {
  "kernelspec": {
   "display_name": "Python 3",
   "language": "python",
   "name": "python3"
  },
  "language_info": {
   "codemirror_mode": {
    "name": "ipython",
    "version": 3
   },
   "file_extension": ".py",
   "mimetype": "text/x-python",
   "name": "python",
   "nbconvert_exporter": "python",
   "pygments_lexer": "ipython3",
   "version": "3.7.6"
  }
 },
 "nbformat": 4,
 "nbformat_minor": 4
}
